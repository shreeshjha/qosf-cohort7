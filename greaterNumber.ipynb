{
 "cells": [
  {
   "cell_type": "code",
   "execution_count": 62,
   "id": "ea93e353-7826-4cee-8708-cf278da8d3f1",
   "metadata": {},
   "outputs": [
    {
     "name": "stderr",
     "output_type": "stream",
     "text": [
      "ibmqfactory.load_account:WARNING:2023-02-16 13:01:41,123: Credentials are already in use. The existing account in the session will be replaced.\n"
     ]
    }
   ],
   "source": [
    "import numpy as np\n",
    "import math\n",
    "# Importing standard Qiskit libraries\n",
    "from qiskit import QuantumCircuit, QuantumRegister, ClassicalRegister, execute, transpile, Aer, IBMQ\n",
    "from qiskit.tools.jupyter import *\n",
    "from qiskit.visualization import *\n",
    "from ibm_quantum_widgets import *\n",
    "from qiskit.providers.aer import QasmSimulator\n",
    "\n",
    "# Loading your IBM Quantum account(s)\n",
    "provider = IBMQ.load_account()"
   ]
  },
  {
   "cell_type": "markdown",
   "id": "b6fdc362-677c-433a-a98e-13cc0ac1e3ae",
   "metadata": {},
   "source": [
    "### Enter two numbers either positive or negative which will be compared"
   ]
  },
  {
   "cell_type": "code",
   "execution_count": 63,
   "id": "704b4370-f9d0-499b-b69e-afbbab9670b7",
   "metadata": {},
   "outputs": [
    {
     "name": "stdin",
     "output_type": "stream",
     "text": [
      "Enter First  Number:  -3\n",
      "Enter Second Number:  -1\n"
     ]
    }
   ],
   "source": [
    "number_1 = int(input(\"Enter First  Number: \"))\n",
    "number_2 = int(input(\"Enter Second Number: \"))\n"
   ]
  },
  {
   "cell_type": "markdown",
   "id": "1fbd5cdf-71b4-4563-9088-239a0045a04f",
   "metadata": {},
   "source": [
    "### Now we will determine the number of qubits required to represent larger number"
   ]
  },
  {
   "cell_type": "code",
   "execution_count": 66,
   "id": "1432a79f-7eb4-4296-8bde-91e280666d1e",
   "metadata": {},
   "outputs": [],
   "source": [
    "n = math.ceil(math.log2(max(abs(number_1), abs(number_2)))) #Taking absolute value of numbers as negative numbers are part of input so avoid math domain error"
   ]
  },
  {
   "cell_type": "markdown",
   "id": "f1b1308e-dd2b-4f31-b3e6-bbbbe98cc0b7",
   "metadata": {},
   "source": [
    "### Now we will create a quantum circuit with 2 * (number_of_qbits) + 1"
   ]
  },
  {
   "cell_type": "code",
   "execution_count": 67,
   "id": "dbb8ff43-c772-4072-b5fa-0b592ccc78c0",
   "metadata": {},
   "outputs": [],
   "source": [
    "qc = QuantumCircuit(n+1, 1)"
   ]
  },
  {
   "cell_type": "markdown",
   "id": "875f1402-906b-48bc-819f-7213162b794a",
   "metadata": {},
   "source": [
    "### Convert the numbers to two's complement so that we can handle negative numbers"
   ]
  },
  {
   "cell_type": "code",
   "execution_count": 68,
   "id": "e2a1d9b1-2b2f-4684-8e72-9fb09a7d355e",
   "metadata": {},
   "outputs": [],
   "source": [
    "number_1_bits = '{0:b}'.format(abs(number_1)).zfill(n)\n",
    "number_2_bits = '{0:b}'.format(abs(number_2)).zfill(n)\n",
    "\n",
    "if number_1 < 0:\n",
    "    number_1_bits = ''.join(['1' if cbit == '0' else '0' for cbit in number_1_bits])\n",
    "    number_2_bits = '{0:b}'.format(int(number_1_bits, 2) + 1).zfill(n)\n",
    "if number_2 < 0:\n",
    "    number_2_bits = ''.join(['1' if cbit == '0' else '0' for cbit in number_2_bits])\n",
    "    number_2_bits = '{0:b}'.format(int(number_2_bits, 2) + 1).zfill(n)"
   ]
  },
  {
   "cell_type": "markdown",
   "id": "f8ab6f27-7133-47d8-97e2-df7b8acd5522",
   "metadata": {},
   "source": [
    "### We are going to load the binary representation of larger number in first n qubits"
   ]
  },
  {
   "cell_type": "code",
   "execution_count": 69,
   "id": "d68bbba5-29fc-417d-ba71-1fbe1025a01c",
   "metadata": {},
   "outputs": [],
   "source": [
    "for i in range(n):\n",
    "    if number_2_bits[i] == '1':\n",
    "        qc.x(i)\n",
    "for i in range(n):\n",
    "    if number_1_bits[i] == '1':\n",
    "        qc.x(i)"
   ]
  },
  {
   "cell_type": "markdown",
   "id": "df64b193-4a87-45ef-a4d1-8c1bdd191c0b",
   "metadata": {},
   "source": [
    "### We are going to apply hadamard gate to these n qubits to create an equal superpostion"
   ]
  },
  {
   "cell_type": "code",
   "execution_count": 70,
   "id": "502d224e-1310-453e-99f1-58aac0aac80f",
   "metadata": {},
   "outputs": [],
   "source": [
    "for i in range(n):\n",
    "    qc.h(i)"
   ]
  },
  {
   "cell_type": "code",
   "execution_count": 71,
   "id": "b03fa74f-3a30-456a-9137-c185b3b89232",
   "metadata": {},
   "outputs": [
    {
     "data": {
      "text/plain": [
       "<qiskit.circuit.instructionset.InstructionSet at 0x7f911b71ec10>"
      ]
     },
     "execution_count": 71,
     "metadata": {},
     "output_type": "execute_result"
    }
   ],
   "source": [
    "### Apply Phase Shift Gate to last qubit\n",
    "qc.cz(n-1, n)\n",
    "### Now apply hadamard gate on last qubit as well\n",
    "qc.h(n)"
   ]
  },
  {
   "cell_type": "markdown",
   "id": "91cd361d-4205-421a-8f6f-4c602c4328b1",
   "metadata": {},
   "source": [
    "### Now for the answer we measure the last qubit, If we get ket 0 then number_1 is larger than number_2 otherwise it will be number_2"
   ]
  },
  {
   "cell_type": "code",
   "execution_count": 72,
   "id": "d3c5eb06-4c74-4225-ae53-ff7710c2d863",
   "metadata": {},
   "outputs": [
    {
     "data": {
      "text/plain": [
       "<qiskit.circuit.instructionset.InstructionSet at 0x7f911b878700>"
      ]
     },
     "execution_count": 72,
     "metadata": {},
     "output_type": "execute_result"
    }
   ],
   "source": [
    "qc.measure(n, 0)\n"
   ]
  },
  {
   "cell_type": "code",
   "execution_count": 73,
   "id": "8766fcbd-c87d-4ed5-ba65-e242408cfc79",
   "metadata": {},
   "outputs": [
    {
     "name": "stdout",
     "output_type": "stream",
     "text": [
      "-1 is greater than -3\n"
     ]
    }
   ],
   "source": [
    "backend = Aer.get_backend('qasm_simulator')\n",
    "result = execute(qc, backend, shots=1).result()\n",
    "count = result.get_counts()\n",
    "\n",
    "if '0' in count:\n",
    "    if number_1 >= 0:\n",
    "        print(number_1, \"is greater than\", number_2)\n",
    "    else:\n",
    "        print(number_2, \"is greater than\", number_1)\n",
    "else:\n",
    "    if number_2 >= 0:\n",
    "        print(number_2, \"is greater than\", number_1)\n",
    "    else:\n",
    "        print(number_1, \"is greater than\", number_2)"
   ]
  },
  {
   "cell_type": "markdown",
   "id": "95c7bea6-3bcf-4499-8aa2-d5f3f8c89a58",
   "metadata": {},
   "source": [
    "## Here's the circuit for the above algorithm"
   ]
  },
  {
   "cell_type": "code",
   "execution_count": 75,
   "id": "cbf752fd-50ff-4a2c-9eb1-dbb602da65c4",
   "metadata": {},
   "outputs": [
    {
     "data": {
      "image/png": "[encoded data removed]",
      "text/plain": [
       "<Figure size 387.597x264.88 with 1 Axes>"
      ]
     },
     "execution_count": 75,
     "metadata": {},
     "output_type": "execute_result"
    }
   ],
   "source": [
    "qc.draw('mpl')"
   ]
  },
  {
   "cell_type": "code",
   "execution_count": null,
   "id": "6a665903-c4e8-4422-9256-9734d79effb5",
   "metadata": {},
   "outputs": [],
   "source": []
  }
 ],
 "metadata": {
  "kernelspec": {
   "display_name": "Python 3 (ipykernel)",
   "language": "python",
   "name": "python3"
  },
  "language_info": {
   "codemirror_mode": {
    "name": "ipython",
    "version": 3
   },
   "file_extension": ".py",
   "mimetype": "text/x-python",
   "name": "python",
   "nbconvert_exporter": "python",
   "pygments_lexer": "ipython3",
   "version": "3.8.13"
  },
  "widgets": {
   "application/vnd.jupyter.widget-state+json": {
    "state": {
     "07ef2b5ea7aa40f6960bd9e6f8bef4b6": {
      "model_module": "@jupyter-widgets/controls",
      "model_module_version": "1.5.0",
      "model_name": "DescriptionStyleModel",
      "state": {
       "description_width": ""
      }
     },
     "089339698d9146679f336fc09d2a2716": {
      "model_module": "@jupyter-widgets/base",
      "model_module_version": "1.2.0",
      "model_name": "LayoutModel",
      "state": {
       "margin": "0px 0px 10px 0px"
      }
     },
     "1891dc986e0342ebbebed296866d5f82": {
      "model_module": "@jupyter-widgets/controls",
      "model_module_version": "1.5.0",
      "model_name": "HTMLModel",
      "state": {
       "layout": "IPY_MODEL_3662ee85319a464183888043e6156195",
       "style": "IPY_MODEL_b6765868a4634233b11d5118c62cbf04",
       "value": "<h5>Backend</h5>"
      }
     },
     "3662ee85319a464183888043e6156195": {
      "model_module": "@jupyter-widgets/base",
      "model_module_version": "1.2.0",
      "model_name": "LayoutModel",
      "state": {
       "width": "145px"
      }
     },
     "38b01061b72843d7bc2dcff46520aea6": {
      "model_module": "@jupyter-widgets/base",
      "model_module_version": "1.2.0",
      "model_name": "LayoutModel",
      "state": {
       "grid_template_areas": "\n                                       \". . . . right \"\n                                        ",
       "grid_template_columns": "20% 20% 20% 20% 20%",
       "width": "100%"
      }
     },
     "511272d45d174d0981fd6204a8246a3a": {
      "model_module": "@jupyter-widgets/controls",
      "model_module_version": "1.5.0",
      "model_name": "DescriptionStyleModel",
      "state": {
       "description_width": ""
      }
     },
     "542def602af0458fbcd190f0e7e2b671": {
      "model_module": "@jupyter-widgets/controls",
      "model_module_version": "1.5.0",
      "model_name": "HTMLModel",
      "state": {
       "layout": "IPY_MODEL_b913d64692a64a1fa20f1b6cbc6129b3",
       "style": "IPY_MODEL_f2e69b9c5dca495ba08ed35ef75a5afb",
       "value": "<h5>Queue</h5>"
      }
     },
     "5b8cb7ac97fa4a76ad89463507f58d75": {
      "model_module": "@jupyter-widgets/base",
      "model_module_version": "1.2.0",
      "model_name": "LayoutModel",
      "state": {
       "width": "95px"
      }
     },
     "6a7c00a7f7934d13af53d72d6d6620dc": {
      "model_module": "@jupyter-widgets/controls",
      "model_module_version": "1.5.0",
      "model_name": "HTMLModel",
      "state": {
       "layout": "IPY_MODEL_089339698d9146679f336fc09d2a2716",
       "style": "IPY_MODEL_511272d45d174d0981fd6204a8246a3a",
       "value": "<p style='font-family: IBM Plex Sans, Arial, Helvetica, sans-serif; font-size: 20px; font-weight: medium;'>Circuit Properties</p>"
      }
     },
     "6d9240623ff3463da40d46a125d00677": {
      "model_module": "@jupyter-widgets/controls",
      "model_module_version": "1.5.0",
      "model_name": "ButtonModel",
      "state": {
       "button_style": "primary",
       "description": "Clear",
       "layout": "IPY_MODEL_90da4385da5448398b4ab648d54da71f",
       "style": "IPY_MODEL_7e1dc25217214f9688e6d31055e07ec9"
      }
     },
     "7e1dc25217214f9688e6d31055e07ec9": {
      "model_module": "@jupyter-widgets/controls",
      "model_module_version": "1.5.0",
      "model_name": "ButtonStyleModel",
      "state": {}
     },
     "8bf8b2d4cd144d9293d9f8e5fb61d9f2": {
      "model_module": "@jupyter-widgets/base",
      "model_module_version": "1.2.0",
      "model_name": "LayoutModel",
      "state": {
       "margin": "0px 0px 0px 37px",
       "width": "600px"
      }
     },
     "90758dee34e74498a9ad46c83109624b": {
      "model_module": "@jupyter-widgets/controls",
      "model_module_version": "1.5.0",
      "model_name": "DescriptionStyleModel",
      "state": {
       "description_width": ""
      }
     },
     "90da4385da5448398b4ab648d54da71f": {
      "model_module": "@jupyter-widgets/base",
      "model_module_version": "1.2.0",
      "model_name": "LayoutModel",
      "state": {
       "grid_area": "right",
       "padding": "0px 0px 0px 0px",
       "width": "70px"
      }
     },
     "92a59d9cf3bc4a77ae585854338079e4": {
      "model_module": "@jupyter-widgets/base",
      "model_module_version": "1.2.0",
      "model_name": "LayoutModel",
      "state": {}
     },
     "a4a690c766314f5484316c696c4c7e13": {
      "model_module": "@jupyter-widgets/controls",
      "model_module_version": "1.5.0",
      "model_name": "HTMLModel",
      "state": {
       "layout": "IPY_MODEL_92a59d9cf3bc4a77ae585854338079e4",
       "style": "IPY_MODEL_fb41c0bb7fb044c8a50f71e989e9a36b",
       "value": "<h5>Message</h5>"
      }
     },
     "b112f7ebe95e458b94bc3c701b592e03": {
      "model_module": "@jupyter-widgets/controls",
      "model_module_version": "1.5.0",
      "model_name": "HTMLModel",
      "state": {
       "layout": "IPY_MODEL_5b8cb7ac97fa4a76ad89463507f58d75",
       "style": "IPY_MODEL_90758dee34e74498a9ad46c83109624b",
       "value": "<h5>Status</h5>"
      }
     },
     "b53d0eeec30d4e20a63cdcdabea93cd9": {
      "model_module": "@jupyter-widgets/controls",
      "model_module_version": "1.5.0",
      "model_name": "HTMLModel",
      "state": {
       "layout": "IPY_MODEL_e689162a0a3e435ba3490b9a35c53e36",
       "style": "IPY_MODEL_07ef2b5ea7aa40f6960bd9e6f8bef4b6",
       "value": "<h5>Job ID</h5>"
      }
     },
     "b6765868a4634233b11d5118c62cbf04": {
      "model_module": "@jupyter-widgets/controls",
      "model_module_version": "1.5.0",
      "model_name": "DescriptionStyleModel",
      "state": {
       "description_width": ""
      }
     },
     "b913d64692a64a1fa20f1b6cbc6129b3": {
      "model_module": "@jupyter-widgets/base",
      "model_module_version": "1.2.0",
      "model_name": "LayoutModel",
      "state": {
       "width": "70px"
      }
     },
     "c0d9405bf9fc415891dddb454c19690a": {
      "model_module": "@jupyter-widgets/controls",
      "model_module_version": "1.5.0",
      "model_name": "HBoxModel",
      "state": {
       "children": [
        "IPY_MODEL_b53d0eeec30d4e20a63cdcdabea93cd9",
        "IPY_MODEL_1891dc986e0342ebbebed296866d5f82",
        "IPY_MODEL_b112f7ebe95e458b94bc3c701b592e03",
        "IPY_MODEL_542def602af0458fbcd190f0e7e2b671",
        "IPY_MODEL_a4a690c766314f5484316c696c4c7e13"
       ],
       "layout": "IPY_MODEL_8bf8b2d4cd144d9293d9f8e5fb61d9f2"
      }
     },
     "cd6ed913480c4b9f894e21c08a449d44": {
      "model_module": "@jupyter-widgets/controls",
      "model_module_version": "1.5.0",
      "model_name": "GridBoxModel",
      "state": {
       "children": [
        "IPY_MODEL_6d9240623ff3463da40d46a125d00677"
       ],
       "layout": "IPY_MODEL_38b01061b72843d7bc2dcff46520aea6"
      }
     },
     "e689162a0a3e435ba3490b9a35c53e36": {
      "model_module": "@jupyter-widgets/base",
      "model_module_version": "1.2.0",
      "model_name": "LayoutModel",
      "state": {
       "width": "190px"
      }
     },
     "f2e69b9c5dca495ba08ed35ef75a5afb": {
      "model_module": "@jupyter-widgets/controls",
      "model_module_version": "1.5.0",
      "model_name": "DescriptionStyleModel",
      "state": {
       "description_width": ""
      }
     },
     "fb41c0bb7fb044c8a50f71e989e9a36b": {
      "model_module": "@jupyter-widgets/controls",
      "model_module_version": "1.5.0",
      "model_name": "DescriptionStyleModel",
      "state": {
       "description_width": ""
      }
     }
    },
    "version_major": 2,
    "version_minor": 0
   }
  }
 },
 "nbformat": 4,
 "nbformat_minor": 5
}
